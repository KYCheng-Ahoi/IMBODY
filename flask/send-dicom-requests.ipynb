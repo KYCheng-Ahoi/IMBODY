{
 "cells": [
  {
   "cell_type": "markdown",
   "metadata": {},
   "source": [
    "1. JSON\n",
    "2. ByteIO"
   ]
  },
  {
   "cell_type": "code",
   "execution_count": 1,
   "metadata": {},
   "outputs": [],
   "source": [
    "fpath = \"archieve/test_img/2.dcm\"\n",
    "import pydicom\n",
    "ds = pydicom.dcmread(fpath)\n",
    "ds_json = ds.to_json()"
   ]
  },
  {
   "cell_type": "markdown",
   "metadata": {},
   "source": []
  },
  {
   "cell_type": "code",
   "execution_count": 2,
   "metadata": {},
   "outputs": [
    {
     "name": "stdout",
     "output_type": "stream",
     "text": [
      "Reponse time 0.009187000000000056\n"
     ]
    }
   ],
   "source": [
    "# for proper request sending we need to convert the image data to json\n",
    "import requests\n",
    "import json\n",
    "from json import JSONEncoder\n",
    "import numpy as np\n",
    "\n",
    "class NumpyArrayEncoder(JSONEncoder):\n",
    "    def default(self, obj):\n",
    "        if isinstance(obj, np.ndarray):\n",
    "            return obj.tolist()\n",
    "        return JSONEncoder.default(self, obj)\n",
    "\n",
    "# Serialization\n",
    "numpyData = {\"s3_key\": fpath,\"inputs\": ds_json}\n",
    "encodedNumpyData = json.dumps(numpyData, cls=NumpyArrayEncoder)\n",
    "\n",
    "import time\n",
    "start = time.process_time()\n",
    "url = 'http://127.0.0.1:8090/dicom/json'\n",
    "response = requests.post(url, data=encodedNumpyData, headers={'content-type': 'application/json'})\n",
    "print(f\"Reponse time {time.process_time() - start}\")"
   ]
  },
  {
   "cell_type": "code",
   "execution_count": 3,
   "metadata": {},
   "outputs": [
    {
     "data": {
      "text/plain": [
       "{'annotation': '{\\'Specific Character Set\\': \\'ISO_IR 100\\', \\'Image Type\\': \"[\\'ORIGINAL\\', \\'PRIMARY\\', \\'M\\', \\'NORM\\', \\'DIS2D\\']\", \\'Instance Creation Date\\': \\'20160627\\', \\'Instance Creation Time\\': \\'114659.272000\\', \\'SOP Class UID\\': \\'1.2.840.10008.5.1.4.1.1.4\\', \\'SOP Instance UID\\': \\'1.2.40.0.13.1.107053423477181026824793200325977110256\\', \\'Study Date\\': \\'20160627\\', \\'Series Date\\': \\'20160627\\', \\'Acquisition Date\\': \\'20160627\\', \\'Content Date\\': \\'20160627\\', \\'Study Time\\': \\'114356.322000\\', \\'Series Time\\': \\'114628.968000\\', \\'Acquisition Time\\': \\'114645.465000\\', \\'Content Time\\': \\'114659.272000\\', \\'Accession Number\\': \\'ZYKAURTAENVGPSK\\', (0008, 0051): [{\\'Local Namespace Entity ID\\': \\'9346UKI\\'}], \\'Station AE Title\\': \\'IMPAX9346ZA\\', \\'Modality\\': \\'MR\\', \\'Manufacturer\\': \\'SIEMENS\\', \"Referring Physician\\'s Name\": \\'\\', (0008, 1032): [{\\'Code Value\\': \\'RA.MRLE\\', \\'Coding Scheme Designator\\': \\'99ORBIS\\', \\'Code Meaning\\': \\'MRT.Oberbauch.Leber\\'}], \"Operators\\' Name\": \\'Anonymous^Person\\', \\'Admitting Diagnoses Description\\': \\'\\', \"Manufacturer\\'s Model Name\": \\'Aera\\', (0008, 1140): [{\\'Referenced SOP Class UID\\': \\'1.2.840.10008.5.1.4.1.1.4\\', \\'Referenced SOP Instance UID\\': \\'1.2.40.0.13.1.263161049478365870947927147694623731279\\'}, {\\'Referenced SOP Class UID\\': \\'1.2.840.10008.5.1.4.1.1.4\\', \\'Referenced SOP Instance UID\\': \\'1.2.40.0.13.1.171768041180365342578243951087710552543\\'}, {\\'Referenced SOP Class UID\\': \\'1.2.840.10008.5.1.4.1.1.4\\', \\'Referenced SOP Instance UID\\': \\'1.2.40.0.13.1.18447123870903194738969328004127399439\\'}], \"Patient\\'s Name\": \\'Test 1^Patient\\', \\'Patient ID\\': \\'ANONYM-L3YCM9\\', \"Patient\\'s Birth Date\": \\'\\', \"Patient\\'s Sex\": \\'\\', \\'Other Patient Names\\': \\'\\', \"Patient\\'s Size\": \\'1.8\\', \"Patient\\'s Weight\": \\'85.0\\', \\'Patient Identity Removed\\': \\'YES\\', (0012, 0064): [{\\'Code Value\\': \\'113100\\', \\'Coding Scheme Designator\\': \\'DCM\\', \\'Code Meaning\\': \\'Basic Application Confidentiality Profile\\'}, {\\'Code Value\\': \\'113108\\', \\'Coding Scheme Designator\\': \\'DCM\\', \\'Code Meaning\\': \\'Retain Patient Characteristics Option\\'}, {\\'Code Value\\': \\'113105\\', \\'Coding Scheme Designator\\': \\'DCM\\', \\'Code Meaning\\': \\'Clean Descriptors Option\\'}, {\\'Code Value\\': \\'113107\\', \\'Coding Scheme Designator\\': \\'DCM\\', \\'Code Meaning\\': \\'Retain Longitudinal Temporal Information Modified Dates Option\\'}], \\'Body Part Examined\\': \\'ABDOMEN\\', \\'Scanning Sequence\\': \\'GR\\', \\'Sequence Variant\\': \"[\\'SP\\', \\'OSP\\']\", \\'Scan Options\\': \"[\\'PFP\\', \\'SAT2\\']\", \\'MR Acquisition Type\\': \\'2D\\', \\'Sequence Name\\': \\'*fl2d2\\', \\'Angio Flag\\': \\'N\\', \\'Slice Thickness\\': \\'6.0\\', \\'Repetition Time\\': \\'140.0\\', \\'Echo Time\\': \\'2.38\\', \\'Number of Averages\\': \\'1.0\\', \\'Imaging Frequency\\': \\'63.658148\\', \\'Imaged Nucleus\\': \\'1H\\', \\'Echo Number(s)\\': \\'1\\', \\'Magnetic Field Strength\\': \\'1.5\\', \\'Spacing Between Slices\\': \\'7.8\\', \\'Number of Phase Encoding Steps\\': \\'146\\', \\'Echo Train Length\\': \\'2\\', \\'Percent Sampling\\': \\'80.0\\', \\'Percent Phase Field of View\\': \\'81.25\\', \\'Pixel Bandwidth\\': \\'455.0\\', \\'Software Versions\\': \\'syngo MR D13\\', \\'Transmit Coil Name\\': \\'Body\\', \\'Acquisition Matrix\\': \\'[256, 0, 0, 166]\\', \\'In-plane Phase Encoding Direction\\': \\'COL\\', \\'Flip Angle\\': \\'70.0\\', \\'Variable Flip Angle Flag\\': \\'N\\', \\'SAR\\': \\'0.48041290160381\\', \\'dB/dt\\': \\'0.0\\', \\'Patient Position\\': \\'HFS\\', \\'Private Creator\\': \\'SIEMENS MR HEADER\\', \\'[CSA Image Header Type]\\': \\'IMAGE NUM 4\\', \\'[CSA Image Header Version ??]\\': \\'1.0\\', \\'[SliceMeasurementDuration]\\': \\'11760.0\\', \\'[GradientMode]\\': \\'Fast\\', \\'[FlowCompensation]\\': \\'No\\', \\'[TablePositionOrigin]\\': \\'[0, 0, -1437]\\', \\'[ImaAbsTablePosition]\\': \\'[0, 0, -1388]\\', \\'[ImaRelTablePosition]\\': \\'[0, 0, 49]\\', \\'[SlicePosition_PCS]\\': \\'[-173.74885178, -152.56356001, -11.91648483]\\', \\'[TimeAfterStart]\\': \\'29.72\\', \\'[SliceResolution]\\': \\'1.0\\', \\'[RealDwellTime]\\': \\'4300\\', \\'Study Instance UID\\': \\'1.2.40.0.13.1.210839248291573046456185786159547965859\\', \\'Series Instance UID\\': \\'1.2.40.0.13.1.307683221471591918648940480667330853413\\', \\'Study ID\\': \\'\\', \\'Series Number\\': \\'2\\', \\'Acquisition Number\\': \\'1\\', \\'Instance Number\\': \\'17\\', \\'Image Position (Patient)\\': \\'[-173.74885177612, -152.563560009, 37.083515167236]\\', \\'Image Orientation (Patient)\\': \\'[1.0, 0.0, 0.0, 0.0, 1.0, 0.0]\\', \\'Frame of Reference UID\\': \\'1.2.40.0.13.1.25545966011496270478514935790544016192\\', \\'Position Reference Indicator\\': \\'\\', \\'Slice Location\\': \\'37.083515167236\\', \\'Samples per Pixel\\': 1, \\'Photometric Interpretation\\': \\'MONOCHROME2\\', \\'Rows\\': 416, \\'Columns\\': 512, \\'Pixel Spacing\\': \\'[0.7421875, 0.7421875]\\', \\'Bits Allocated\\': 16, \\'Bits Stored\\': 12, \\'High Bit\\': 11, \\'Pixel Representation\\': 0, \\'Smallest Image Pixel Value\\': 0, \\'Largest Image Pixel Value\\': 466, \\'Longitudinal Temporal Information Modified\\': \\'MODIFIED\\', \\'Window Center\\': \\'278.0\\', \\'Window Width\\': \\'618.0\\', \\'Window Center & Width Explanation\\': \\'Algo1\\', \\'[CSA Image Header Version]\\': \\'20160627\\', \\'[CSA Series Header Type]\\': \\'MR\\', \\'[CSA Series Header Version]\\': \\'20160627\\', \\'[Series Workflow Status]\\': \\'com\\', (0032, 1064): [{\\'Code Value\\': \\'RA.MRLE\\', \\'Coding Scheme Designator\\': \\'99ORBIS\\', \\'Code Meaning\\': \\'MRT.Oberbauch.Leber\\'}], \\'Comments on the Performed Procedure Step\\': \\'\\', \\'[Unknown]\\': \\'A1/PFP/SAT2\\', \\'[AcquisitionMatrixText]\\': \\'332p*512 I\\', \\'[CoilString]\\': \\'BO1,2;SP2,3\\', \\'[PATModeText]\\': \\'p2\\', \\'[PositivePCSDirections]\\': \\'+LPH\\'}',\n",
       " 's3_key': 'archieve/test_img/2.dcm'}"
      ]
     },
     "execution_count": 3,
     "metadata": {},
     "output_type": "execute_result"
    }
   ],
   "source": [
    "eval(response.content)"
   ]
  },
  {
   "cell_type": "code",
   "execution_count": 4,
   "metadata": {},
   "outputs": [
    {
     "name": "stdout",
     "output_type": "stream",
     "text": [
      "b'{\"annotation\":\"{\\'Specific Character Set\\': \\'ISO_IR 100\\', \\'Image Type\\': \\\\\"[\\'ORIGINAL\\', \\'PRIMARY\\', \\'M\\', \\'NORM\\', \\'DIS2D\\']\\\\\", \\'Instance Creation Date\\': \\'20160627\\', \\'Instance Creation Time\\': \\'114659.272000\\', \\'SOP Class UID\\': \\'1.2.840.10008.5.1.4.1.1.4\\', \\'SOP Instance UID\\': \\'1.2.40.0.13.1.107053423477181026824793200325977110256\\', \\'Study Date\\': \\'20160627\\', \\'Series Date\\': \\'20160627\\', \\'Acquisition Date\\': \\'20160627\\', \\'Content Date\\': \\'20160627\\', \\'Study Time\\': \\'114356.322000\\', \\'Series Time\\': \\'114628.968000\\', \\'Acquisition Time\\': \\'114645.465000\\', \\'Content Time\\': \\'114659.272000\\', \\'Accession Number\\': \\'ZYKAURTAENVGPSK\\', (0008, 0051): [{\\'Local Namespace Entity ID\\': \\'9346UKI\\'}], \\'Station AE Title\\': \\'IMPAX9346ZA\\', \\'Modality\\': \\'MR\\', \\'Manufacturer\\': \\'SIEMENS\\', \\\\\"Referring Physician\\'s Name\\\\\": \\'\\', (0008, 1032): [{\\'Code Value\\': \\'RA.MRLE\\', \\'Coding Scheme Designator\\': \\'99ORBIS\\', \\'Code Meaning\\': \\'MRT.Oberbauch.Leber\\'}], \\\\\"Operators\\' Name\\\\\": \\'Anonymous^Person\\', \\'Admitting Diagnoses Description\\': \\'\\', \\\\\"Manufacturer\\'s Model Name\\\\\": \\'Aera\\', (0008, 1140): [{\\'Referenced SOP Class UID\\': \\'1.2.840.10008.5.1.4.1.1.4\\', \\'Referenced SOP Instance UID\\': \\'1.2.40.0.13.1.263161049478365870947927147694623731279\\'}, {\\'Referenced SOP Class UID\\': \\'1.2.840.10008.5.1.4.1.1.4\\', \\'Referenced SOP Instance UID\\': \\'1.2.40.0.13.1.171768041180365342578243951087710552543\\'}, {\\'Referenced SOP Class UID\\': \\'1.2.840.10008.5.1.4.1.1.4\\', \\'Referenced SOP Instance UID\\': \\'1.2.40.0.13.1.18447123870903194738969328004127399439\\'}], \\\\\"Patient\\'s Name\\\\\": \\'Test 1^Patient\\', \\'Patient ID\\': \\'ANONYM-L3YCM9\\', \\\\\"Patient\\'s Birth Date\\\\\": \\'\\', \\\\\"Patient\\'s Sex\\\\\": \\'\\', \\'Other Patient Names\\': \\'\\', \\\\\"Patient\\'s Size\\\\\": \\'1.8\\', \\\\\"Patient\\'s Weight\\\\\": \\'85.0\\', \\'Patient Identity Removed\\': \\'YES\\', (0012, 0064): [{\\'Code Value\\': \\'113100\\', \\'Coding Scheme Designator\\': \\'DCM\\', \\'Code Meaning\\': \\'Basic Application Confidentiality Profile\\'}, {\\'Code Value\\': \\'113108\\', \\'Coding Scheme Designator\\': \\'DCM\\', \\'Code Meaning\\': \\'Retain Patient Characteristics Option\\'}, {\\'Code Value\\': \\'113105\\', \\'Coding Scheme Designator\\': \\'DCM\\', \\'Code Meaning\\': \\'Clean Descriptors Option\\'}, {\\'Code Value\\': \\'113107\\', \\'Coding Scheme Designator\\': \\'DCM\\', \\'Code Meaning\\': \\'Retain Longitudinal Temporal Information Modified Dates Option\\'}], \\'Body Part Examined\\': \\'ABDOMEN\\', \\'Scanning Sequence\\': \\'GR\\', \\'Sequence Variant\\': \\\\\"[\\'SP\\', \\'OSP\\']\\\\\", \\'Scan Options\\': \\\\\"[\\'PFP\\', \\'SAT2\\']\\\\\", \\'MR Acquisition Type\\': \\'2D\\', \\'Sequence Name\\': \\'*fl2d2\\', \\'Angio Flag\\': \\'N\\', \\'Slice Thickness\\': \\'6.0\\', \\'Repetition Time\\': \\'140.0\\', \\'Echo Time\\': \\'2.38\\', \\'Number of Averages\\': \\'1.0\\', \\'Imaging Frequency\\': \\'63.658148\\', \\'Imaged Nucleus\\': \\'1H\\', \\'Echo Number(s)\\': \\'1\\', \\'Magnetic Field Strength\\': \\'1.5\\', \\'Spacing Between Slices\\': \\'7.8\\', \\'Number of Phase Encoding Steps\\': \\'146\\', \\'Echo Train Length\\': \\'2\\', \\'Percent Sampling\\': \\'80.0\\', \\'Percent Phase Field of View\\': \\'81.25\\', \\'Pixel Bandwidth\\': \\'455.0\\', \\'Software Versions\\': \\'syngo MR D13\\', \\'Transmit Coil Name\\': \\'Body\\', \\'Acquisition Matrix\\': \\'[256, 0, 0, 166]\\', \\'In-plane Phase Encoding Direction\\': \\'COL\\', \\'Flip Angle\\': \\'70.0\\', \\'Variable Flip Angle Flag\\': \\'N\\', \\'SAR\\': \\'0.48041290160381\\', \\'dB/dt\\': \\'0.0\\', \\'Patient Position\\': \\'HFS\\', \\'Private Creator\\': \\'SIEMENS MR HEADER\\', \\'[CSA Image Header Type]\\': \\'IMAGE NUM 4\\', \\'[CSA Image Header Version ??]\\': \\'1.0\\', \\'[SliceMeasurementDuration]\\': \\'11760.0\\', \\'[GradientMode]\\': \\'Fast\\', \\'[FlowCompensation]\\': \\'No\\', \\'[TablePositionOrigin]\\': \\'[0, 0, -1437]\\', \\'[ImaAbsTablePosition]\\': \\'[0, 0, -1388]\\', \\'[ImaRelTablePosition]\\': \\'[0, 0, 49]\\', \\'[SlicePosition_PCS]\\': \\'[-173.74885178, -152.56356001, -11.91648483]\\', \\'[TimeAfterStart]\\': \\'29.72\\', \\'[SliceResolution]\\': \\'1.0\\', \\'[RealDwellTime]\\': \\'4300\\', \\'Study Instance UID\\': \\'1.2.40.0.13.1.210839248291573046456185786159547965859\\', \\'Series Instance UID\\': \\'1.2.40.0.13.1.307683221471591918648940480667330853413\\', \\'Study ID\\': \\'\\', \\'Series Number\\': \\'2\\', \\'Acquisition Number\\': \\'1\\', \\'Instance Number\\': \\'17\\', \\'Image Position (Patient)\\': \\'[-173.74885177612, -152.563560009, 37.083515167236]\\', \\'Image Orientation (Patient)\\': \\'[1.0, 0.0, 0.0, 0.0, 1.0, 0.0]\\', \\'Frame of Reference UID\\': \\'1.2.40.0.13.1.25545966011496270478514935790544016192\\', \\'Position Reference Indicator\\': \\'\\', \\'Slice Location\\': \\'37.083515167236\\', \\'Samples per Pixel\\': 1, \\'Photometric Interpretation\\': \\'MONOCHROME2\\', \\'Rows\\': 416, \\'Columns\\': 512, \\'Pixel Spacing\\': \\'[0.7421875, 0.7421875]\\', \\'Bits Allocated\\': 16, \\'Bits Stored\\': 12, \\'High Bit\\': 11, \\'Pixel Representation\\': 0, \\'Smallest Image Pixel Value\\': 0, \\'Largest Image Pixel Value\\': 466, \\'Longitudinal Temporal Information Modified\\': \\'MODIFIED\\', \\'Window Center\\': \\'278.0\\', \\'Window Width\\': \\'618.0\\', \\'Window Center & Width Explanation\\': \\'Algo1\\', \\'[CSA Image Header Version]\\': \\'20160627\\', \\'[CSA Series Header Type]\\': \\'MR\\', \\'[CSA Series Header Version]\\': \\'20160627\\', \\'[Series Workflow Status]\\': \\'com\\', (0032, 1064): [{\\'Code Value\\': \\'RA.MRLE\\', \\'Coding Scheme Designator\\': \\'99ORBIS\\', \\'Code Meaning\\': \\'MRT.Oberbauch.Leber\\'}], \\'Comments on the Performed Procedure Step\\': \\'\\', \\'[Unknown]\\': \\'A1/PFP/SAT2\\', \\'[AcquisitionMatrixText]\\': \\'332p*512 I\\', \\'[CoilString]\\': \\'BO1,2;SP2,3\\', \\'[PATModeText]\\': \\'p2\\', \\'[PositivePCSDirections]\\': \\'+LPH\\'}\",\"s3_key\":\"archieve/test_img/2.dcm\"}\\n'\n"
     ]
    }
   ],
   "source": [
    "print(response.content)"
   ]
  },
  {
   "cell_type": "code",
   "execution_count": 5,
   "metadata": {},
   "outputs": [
    {
     "name": "stdout",
     "output_type": "stream",
     "text": [
      "<_io.BytesIO object at 0x7fe564527c70>\n",
      "Skipping (0029, 1010) [CSA Image Header Info] <class 'bytes'> OB...\n",
      "Skipping (0029, 1020) [CSA Series Header Info] <class 'bytes'> OB...\n",
      "Skipping (7fe0, 0010) Pixel Data <class 'bytes'> OW...\n"
     ]
    },
    {
     "data": {
      "text/plain": [
       "{'Specific Character Set': 'ISO_IR 100',\n",
       " 'Image Type': \"['ORIGINAL', 'PRIMARY', 'M', 'NORM', 'DIS2D']\",\n",
       " 'Instance Creation Date': '20160627',\n",
       " 'Instance Creation Time': '114659.272000',\n",
       " 'SOP Class UID': '1.2.840.10008.5.1.4.1.1.4',\n",
       " 'SOP Instance UID': '1.2.40.0.13.1.107053423477181026824793200325977110256',\n",
       " 'Study Date': '20160627',\n",
       " 'Series Date': '20160627',\n",
       " 'Acquisition Date': '20160627',\n",
       " 'Content Date': '20160627',\n",
       " 'Study Time': '114356.322000',\n",
       " 'Series Time': '114628.968000',\n",
       " 'Acquisition Time': '114645.465000',\n",
       " 'Content Time': '114659.272000',\n",
       " 'Accession Number': 'ZYKAURTAENVGPSK',\n",
       " (0008, 0051): [{'Local Namespace Entity ID': '9346UKI'}],\n",
       " 'Station AE Title': 'IMPAX9346ZA',\n",
       " 'Modality': 'MR',\n",
       " 'Manufacturer': 'SIEMENS',\n",
       " \"Referring Physician's Name\": '',\n",
       " (0008, 1032): [{'Code Value': 'RA.MRLE',\n",
       "   'Coding Scheme Designator': '99ORBIS',\n",
       "   'Code Meaning': 'MRT.Oberbauch.Leber'}],\n",
       " \"Operators' Name\": 'Anonymous^Person',\n",
       " 'Admitting Diagnoses Description': '',\n",
       " \"Manufacturer's Model Name\": 'Aera',\n",
       " (0008, 1140): [{'Referenced SOP Class UID': '1.2.840.10008.5.1.4.1.1.4',\n",
       "   'Referenced SOP Instance UID': '1.2.40.0.13.1.263161049478365870947927147694623731279'},\n",
       "  {'Referenced SOP Class UID': '1.2.840.10008.5.1.4.1.1.4',\n",
       "   'Referenced SOP Instance UID': '1.2.40.0.13.1.171768041180365342578243951087710552543'},\n",
       "  {'Referenced SOP Class UID': '1.2.840.10008.5.1.4.1.1.4',\n",
       "   'Referenced SOP Instance UID': '1.2.40.0.13.1.18447123870903194738969328004127399439'}],\n",
       " \"Patient's Name\": 'Test 1^Patient',\n",
       " 'Patient ID': 'ANONYM-L3YCM9',\n",
       " \"Patient's Birth Date\": '',\n",
       " \"Patient's Sex\": '',\n",
       " 'Other Patient Names': '',\n",
       " \"Patient's Size\": '1.8',\n",
       " \"Patient's Weight\": '85.0',\n",
       " 'Patient Identity Removed': 'YES',\n",
       " (0012, 0064): [{'Code Value': '113100',\n",
       "   'Coding Scheme Designator': 'DCM',\n",
       "   'Code Meaning': 'Basic Application Confidentiality Profile'},\n",
       "  {'Code Value': '113108',\n",
       "   'Coding Scheme Designator': 'DCM',\n",
       "   'Code Meaning': 'Retain Patient Characteristics Option'},\n",
       "  {'Code Value': '113105',\n",
       "   'Coding Scheme Designator': 'DCM',\n",
       "   'Code Meaning': 'Clean Descriptors Option'},\n",
       "  {'Code Value': '113107',\n",
       "   'Coding Scheme Designator': 'DCM',\n",
       "   'Code Meaning': 'Retain Longitudinal Temporal Information Modified Dates Option'}],\n",
       " 'Body Part Examined': 'ABDOMEN',\n",
       " 'Scanning Sequence': 'GR',\n",
       " 'Sequence Variant': \"['SP', 'OSP']\",\n",
       " 'Scan Options': \"['PFP', 'SAT2']\",\n",
       " 'MR Acquisition Type': '2D',\n",
       " 'Sequence Name': '*fl2d2',\n",
       " 'Angio Flag': 'N',\n",
       " 'Slice Thickness': '6.0',\n",
       " 'Repetition Time': '140.0',\n",
       " 'Echo Time': '2.38',\n",
       " 'Number of Averages': '1.0',\n",
       " 'Imaging Frequency': '63.658148',\n",
       " 'Imaged Nucleus': '1H',\n",
       " 'Echo Number(s)': '1',\n",
       " 'Magnetic Field Strength': '1.5',\n",
       " 'Spacing Between Slices': '7.8',\n",
       " 'Number of Phase Encoding Steps': '146',\n",
       " 'Echo Train Length': '2',\n",
       " 'Percent Sampling': '80.0',\n",
       " 'Percent Phase Field of View': '81.25',\n",
       " 'Pixel Bandwidth': '455.0',\n",
       " 'Software Versions': 'syngo MR D13',\n",
       " 'Transmit Coil Name': 'Body',\n",
       " 'Acquisition Matrix': [256, 0, 0, 166],\n",
       " 'In-plane Phase Encoding Direction': 'COL',\n",
       " 'Flip Angle': '70.0',\n",
       " 'Variable Flip Angle Flag': 'N',\n",
       " 'SAR': '0.48041290160381',\n",
       " 'dB/dt': '0.0',\n",
       " 'Patient Position': 'HFS',\n",
       " 'Private Creator': 'SIEMENS MR HEADER',\n",
       " '[CSA Image Header Type]': 'IMAGE NUM 4',\n",
       " '[CSA Image Header Version ??]': '1.0',\n",
       " '[SliceMeasurementDuration]': '11760.0',\n",
       " '[GradientMode]': 'Fast',\n",
       " '[FlowCompensation]': 'No',\n",
       " '[TablePositionOrigin]': [0, 0, -1437],\n",
       " '[ImaAbsTablePosition]': [0, 0, -1388],\n",
       " '[ImaRelTablePosition]': '[0, 0, 49]',\n",
       " '[SlicePosition_PCS]': [-173.74885178, -152.56356001, -11.91648483],\n",
       " '[TimeAfterStart]': '29.72',\n",
       " '[SliceResolution]': '1.0',\n",
       " '[RealDwellTime]': '4300',\n",
       " 'Study Instance UID': '1.2.40.0.13.1.210839248291573046456185786159547965859',\n",
       " 'Series Instance UID': '1.2.40.0.13.1.307683221471591918648940480667330853413',\n",
       " 'Study ID': '',\n",
       " 'Series Number': '2',\n",
       " 'Acquisition Number': '1',\n",
       " 'Instance Number': '17',\n",
       " 'Image Position (Patient)': '[-173.74885177612, -152.563560009, 37.083515167236]',\n",
       " 'Image Orientation (Patient)': '[1, 0, 0, 0, 1, 0]',\n",
       " 'Frame of Reference UID': '1.2.40.0.13.1.25545966011496270478514935790544016192',\n",
       " 'Position Reference Indicator': '',\n",
       " 'Slice Location': '37.083515167236',\n",
       " 'Samples per Pixel': 1,\n",
       " 'Photometric Interpretation': 'MONOCHROME2',\n",
       " 'Rows': 416,\n",
       " 'Columns': 512,\n",
       " 'Pixel Spacing': '[0.7421875, 0.7421875]',\n",
       " 'Bits Allocated': 16,\n",
       " 'Bits Stored': 12,\n",
       " 'High Bit': 11,\n",
       " 'Pixel Representation': 0,\n",
       " 'Smallest Image Pixel Value': 0,\n",
       " 'Largest Image Pixel Value': 466,\n",
       " 'Longitudinal Temporal Information Modified': 'MODIFIED',\n",
       " 'Window Center': '278',\n",
       " 'Window Width': '618',\n",
       " 'Window Center & Width Explanation': 'Algo1',\n",
       " '[CSA Image Header Version]': '20160627',\n",
       " '[CSA Series Header Type]': 'MR',\n",
       " '[CSA Series Header Version]': '20160627',\n",
       " '[Series Workflow Status]': 'com',\n",
       " (0032, 1064): [{'Code Value': 'RA.MRLE',\n",
       "   'Coding Scheme Designator': '99ORBIS',\n",
       "   'Code Meaning': 'MRT.Oberbauch.Leber'}],\n",
       " 'Comments on the Performed Procedure Step': '',\n",
       " '[Unknown]': 'A1/PFP/SAT2',\n",
       " '[AcquisitionMatrixText]': '332p*512 I',\n",
       " '[CoilString]': 'BO1,2;SP2,3',\n",
       " '[PATModeText]': 'p2',\n",
       " '[PositivePCSDirections]': '+LPH'}"
      ]
     },
     "execution_count": 5,
     "metadata": {},
     "output_type": "execute_result"
    }
   ],
   "source": [
    "import pydicom\n",
    "from io import BytesIO\n",
    "fpath = \"archieve/test_img/2.dcm\"\n",
    "with open(fpath, 'rb') as fh:\n",
    "    buf = BytesIO(fh.read())\n",
    "print(buf)\n",
    "ds = pydicom.dcmread(buf)\n",
    "from utils.dicom_helper import dictify\n",
    "dictify(ds)"
   ]
  }
 ],
 "metadata": {
  "interpreter": {
   "hash": "61c997efd781189935831b34451971f40ffe2680fff119a08be5e26323c5bf22"
  },
  "kernelspec": {
   "display_name": "Python 3.8.13 ('ir-dev')",
   "language": "python",
   "name": "python3"
  },
  "language_info": {
   "codemirror_mode": {
    "name": "ipython",
    "version": 3
   },
   "file_extension": ".py",
   "mimetype": "text/x-python",
   "name": "python",
   "nbconvert_exporter": "python",
   "pygments_lexer": "ipython3",
   "version": "3.8.13"
  },
  "orig_nbformat": 4
 },
 "nbformat": 4,
 "nbformat_minor": 2
}
